{
 "cells": [
  {
   "cell_type": "code",
   "execution_count": 11,
   "metadata": {},
   "outputs": [],
   "source": [
    "import threading\n",
    "import ipywidgets as widgets\n",
    "from ipywidgets import HBox, VBox\n",
    "import queue\n",
    "import time"
   ]
  },
  {
   "cell_type": "code",
   "execution_count": 29,
   "metadata": {},
   "outputs": [],
   "source": [
    "def myCounter(progressBar, q):\n",
    "    for i in reversed(range(9)):\n",
    "        ans = -9       # Initialize\n",
    "        time.sleep(1)\n",
    "        progressBar.value = (9-i)/9\n",
    "        try:\n",
    "            ans = q.get(block=False)\n",
    "        except:\n",
    "            q.put(-7)  # So queue isn't empty   \n",
    "        if ans == 1:\n",
    "            break      # Terminate this thread\n",
    "    q.put(1)           # Let the other thread know\n",
    "\n",
    "def mySemaphore(checkBox, q):\n",
    "    while True:\n",
    "        #ans = int(input(\"Tell me yes or no [1/0]: \"))   # Prompt user \n",
    "        ans = int(checkBox.value)                        # Check to stop\n",
    "        print(\"Interrupt has {}\".format(ans))\n",
    "        if ans == 1:\n",
    "            q.put(1)   # Signal termination ..\n",
    "            break      # .. and exit.\n",
    "        elif q.get() == 1:\n",
    "            break      # Quit!"
   ]
  },
  {
   "cell_type": "code",
   "execution_count": 30,
   "metadata": {},
   "outputs": [
    {
     "data": {
      "application/vnd.jupyter.widget-view+json": {
       "model_id": "5c117cb65f384eb4aa25ae3d0707a905",
       "version_major": 2,
       "version_minor": 0
      },
      "text/plain": [
       "FloatProgress(value=0.0, max=1.0)"
      ]
     },
     "metadata": {},
     "output_type": "display_data"
    },
    {
     "data": {
      "application/vnd.jupyter.widget-view+json": {
       "model_id": "98e67399c8804755947ac0726381c3ba",
       "version_major": 2,
       "version_minor": 0
      },
      "text/plain": [
       "Checkbox(value=False, description='Continue?')"
      ]
     },
     "metadata": {},
     "output_type": "display_data"
    },
    {
     "name": "stdout",
     "output_type": "stream",
     "text": [
      "Interrupt has 0\n",
      "Interrupt has 0\n",
      "Interrupt has 0\n",
      "Interrupt has 1\n"
     ]
    }
   ],
   "source": [
    "dummy = -7\n",
    "q = queue.LifoQueue()\n",
    "q.put(dummy)\n",
    "\n",
    "progressBar = widgets.FloatProgress(value=0.0, min=0.0, max=1.0)\n",
    "checkBox = widgets.Checkbox(value=False, description=\"Continue?\", disabled=False)\n",
    "\n",
    "myFirstThread = threading.Thread(target=myCounter, args=(progressBar, q))\n",
    "myNextThread = threading.Thread(target=mySemaphore, args=(checkBox, q))\n",
    "\n",
    "display(progressBar)\n",
    "display(checkBox)\n",
    "\n",
    "myFirstThread.start()\n",
    "myNextThread.start()"
   ]
  },
  {
   "cell_type": "code",
   "execution_count": 31,
   "metadata": {},
   "outputs": [
    {
     "data": {
      "application/vnd.jupyter.widget-view+json": {
       "model_id": "969b85909f924fa59c02f422c914a543",
       "version_major": 2,
       "version_minor": 0
      },
      "text/plain": [
       "ToggleButtons(description='Light up my life', options=('R', 'G', 'B'), value='R')"
      ]
     },
     "metadata": {},
     "output_type": "display_data"
    }
   ],
   "source": [
    "ledStrip = widgets.ToggleButtons(\n",
    "    options = ['R', 'G', 'B'],\n",
    "    value = 'R',\n",
    "    description = 'Light up my life'\n",
    ")\n",
    "ledStrip"
   ]
  },
  {
   "cell_type": "code",
   "execution_count": 32,
   "metadata": {},
   "outputs": [
    {
     "name": "stdout",
     "output_type": "stream",
     "text": [
      "0 1 2 0 1 2 0 1 2 "
     ]
    }
   ],
   "source": [
    "for i in range(9):\n",
    "    now = i % 3 \n",
    "    print(now, end=' ')\n",
    "    time.sleep(1)\n",
    "    ledStrip.value = ledStrip.options[now]"
   ]
  },
  {
   "cell_type": "code",
   "execution_count": 33,
   "metadata": {},
   "outputs": [],
   "source": [
    "def myStripper(ledStrip, q):\n",
    "    for i in range(99):\n",
    "        ans = -9\n",
    "        time.sleep(1)\n",
    "        ledStrip.value = ledStrip.options[i % 3]\n",
    "        try:\n",
    "            ans = q.get(block=False)\n",
    "        except:\n",
    "            q.put(-9)\n",
    "        if ans == 1:\n",
    "            break\n",
    "    q.put(1)\n",
    "\n",
    "def myChaperone(checkMark, q):\n",
    "    while True:\n",
    "        ans = int(checkMark.value)\n",
    "        if ans == 1:\n",
    "            q.put(ans)\n",
    "            break\n",
    "        elif q.get() == 1:\n",
    "            break"
   ]
  },
  {
   "cell_type": "code",
   "execution_count": 34,
   "metadata": {},
   "outputs": [
    {
     "data": {
      "application/vnd.jupyter.widget-view+json": {
       "model_id": "2519e8979f8841a498cd6b5416696f2a",
       "version_major": 2,
       "version_minor": 0
      },
      "text/plain": [
       "ToggleButtons(description='Light me: ', index=2, options=('R', 'G', 'B'), value='B')"
      ]
     },
     "metadata": {},
     "output_type": "display_data"
    },
    {
     "data": {
      "application/vnd.jupyter.widget-view+json": {
       "model_id": "4d3559497cdf492bbf8947c7f1d37866",
       "version_major": 2,
       "version_minor": 0
      },
      "text/plain": [
       "Checkbox(value=False, description='Arretez!')"
      ]
     },
     "metadata": {},
     "output_type": "display_data"
    }
   ],
   "source": [
    "# Queue - initialize\n",
    "dummy = -7\n",
    "que = queue.LifoQueue()\n",
    "que.put(dummy)\n",
    "\n",
    "# Widgets\n",
    "lightStrip = widgets.ToggleButtons(\n",
    "    options = ['R', 'G', 'B'],\n",
    "    value = 'B',\n",
    "    description = \"Light me: \"\n",
    ")\n",
    "checkMark = widgets.Checkbox(value=False, description=\"Arretez!\", disabled=False)\n",
    "\n",
    "\n",
    "# Threads - launch\n",
    "Tick = threading.Thread(target=myStripper, args=(lightStrip, que))\n",
    "Tock = threading.Thread(target=myChaperone, args=(checkMark, que))\n",
    "\n",
    "# Show - start\n",
    "display(lightStrip)\n",
    "display(checkMark)\n",
    "Tick.start()\n",
    "Tock.start()\n"
   ]
  },
  {
   "cell_type": "code",
   "execution_count": null,
   "metadata": {},
   "outputs": [],
   "source": []
  }
 ],
 "metadata": {
  "kernelspec": {
   "display_name": "Python 3",
   "language": "python",
   "name": "python3"
  },
  "language_info": {
   "codemirror_mode": {
    "name": "ipython",
    "version": 3
   },
   "file_extension": ".py",
   "mimetype": "text/x-python",
   "name": "python",
   "nbconvert_exporter": "python",
   "pygments_lexer": "ipython3",
   "version": "3.7.3"
  }
 },
 "nbformat": 4,
 "nbformat_minor": 2
}
