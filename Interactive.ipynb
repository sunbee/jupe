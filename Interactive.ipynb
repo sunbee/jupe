{
 "cells": [
  {
   "cell_type": "code",
   "execution_count": 1,
   "metadata": {},
   "outputs": [],
   "source": [
    "import ipywidgets as widgets\n",
    "from ipywidgets import HBox, VBox\n",
    "import numpy as np\n",
    "import matplotlib.pyplot as plt\n",
    "from IPython.display import display\n",
    "%matplotlib inline"
   ]
  },
  {
   "cell_type": "code",
   "execution_count": 2,
   "metadata": {},
   "outputs": [
    {
     "data": {
      "application/vnd.jupyter.widget-view+json": {
       "model_id": "e1048235f67c45c499f60b9f4dafe820",
       "version_major": 2,
       "version_minor": 0
      },
      "text/plain": [
       "interactive(children=(IntSlider(value=5, description='x', max=15, min=-5), Output()), _dom_classes=('widget-in…"
      ]
     },
     "metadata": {},
     "output_type": "display_data"
    }
   ],
   "source": [
    "@widgets.interact\n",
    "\n",
    "def f(x=5):\n",
    "    print(x)"
   ]
  },
  {
   "cell_type": "code",
   "execution_count": 3,
   "metadata": {},
   "outputs": [
    {
     "data": {
      "application/vnd.jupyter.widget-view+json": {
       "model_id": "d5ca456e9c324a4ca18902961a1fb7d5",
       "version_major": 2,
       "version_minor": 0
      },
      "text/plain": [
       "interactive(children=(IntSlider(value=3, description='x', max=5), Output()), _dom_classes=('widget-interact',)…"
      ]
     },
     "metadata": {},
     "output_type": "display_data"
    }
   ],
   "source": [
    "@widgets.interact(x=(0,5))\n",
    "def f(x=3):\n",
    "    print(x)"
   ]
  },
  {
   "cell_type": "code",
   "execution_count": 4,
   "metadata": {},
   "outputs": [
    {
     "data": {
      "application/vnd.jupyter.widget-view+json": {
       "model_id": "721272d716164449b4ee741612620bfe",
       "version_major": 2,
       "version_minor": 0
      },
      "text/plain": [
       "interactive(children=(IntSlider(value=1, description='freq', max=3, min=-1), Dropdown(description='color', ind…"
      ]
     },
     "metadata": {},
     "output_type": "display_data"
    }
   ],
   "source": [
    "@widgets.interact_manual(\n",
    "    color=['red', 'blue', 'green'], lw=(1., 10.))\n",
    "def plot(freq=1, color='blue', lw=2, grid=True):\n",
    "    t = np.linspace(-1, +1, 1000)\n",
    "    fig, ax = plt.subplots(1, 1, figsize=(8, 6))\n",
    "    ax.plot(t, np.sin(2 * np.pi * freq * t), \n",
    "            color=color, lw=lw)\n",
    "    ax.grid(grid)"
   ]
  },
  {
   "cell_type": "code",
   "execution_count": 5,
   "metadata": {},
   "outputs": [
    {
     "data": {
      "application/vnd.jupyter.widget-view+json": {
       "model_id": "042b218e632a4159ba6e116ca7afecac",
       "version_major": 2,
       "version_minor": 0
      },
      "text/plain": [
       "FloatSlider(value=3.0, description='Frequency:', max=10.0, min=1.0, readout_format='.1f', step=1.0)"
      ]
     },
     "metadata": {},
     "output_type": "display_data"
    }
   ],
   "source": [
    "freqSlider = widgets.FloatSlider(\n",
    "    value = 3.0,\n",
    "    min = 1.0,\n",
    "    max = 10.0,\n",
    "    step = 1,\n",
    "    description = \"Frequency:\",\n",
    "    readout_format = \".1f\",\n",
    ")\n",
    "freqSlider"
   ]
  },
  {
   "cell_type": "code",
   "execution_count": 6,
   "metadata": {},
   "outputs": [
    {
     "data": {
      "application/vnd.jupyter.widget-view+json": {
       "model_id": "d1ad4a0d648348ce981c44b40e1dbbe7",
       "version_major": 2,
       "version_minor": 0
      },
      "text/plain": [
       "FloatRangeSlider(value=(-1.0, 1.0), description='xlim', max=5.0, min=-5.0, readout_format='.1f')"
      ]
     },
     "metadata": {},
     "output_type": "display_data"
    }
   ],
   "source": [
    "rangeSlider = widgets.FloatRangeSlider(\n",
    "    value = [-1., +1.],\n",
    "    min = -5., \n",
    "    max  = +5., \n",
    "    step = 0.1,\n",
    "    description = \"xlim\",\n",
    "    readout_format = \".1f\"\n",
    ")\n",
    "rangeSlider"
   ]
  },
  {
   "cell_type": "code",
   "execution_count": 7,
   "metadata": {},
   "outputs": [
    {
     "data": {
      "application/vnd.jupyter.widget-view+json": {
       "model_id": "8ea17f19c283406495e1a9a277c02f0a",
       "version_major": 2,
       "version_minor": 0
      },
      "text/plain": [
       "ToggleButton(value=True, description='Grid', icon='check')"
      ]
     },
     "metadata": {},
     "output_type": "display_data"
    }
   ],
   "source": [
    "gridButton = widgets.ToggleButton(\n",
    "    value = True,\n",
    "    description = \"Grid\",\n",
    "    icon = \"check\"\n",
    ")\n",
    "gridButton"
   ]
  },
  {
   "cell_type": "code",
   "execution_count": 8,
   "metadata": {},
   "outputs": [
    {
     "data": {
      "application/vnd.jupyter.widget-view+json": {
       "model_id": "5d71358d7cd647d9970d62b22b840bc5",
       "version_major": 2,
       "version_minor": 0
      },
      "text/plain": [
       "ToggleButtons(description='Color', index=3, options=('Red', 'Green', 'Blue', 'Orange'), value='Orange')"
      ]
     },
     "metadata": {},
     "output_type": "display_data"
    }
   ],
   "source": [
    "colorOptions = widgets.ToggleButtons(\n",
    "    options = ['Red', 'Green', 'Blue', 'Orange'],\n",
    "    value = \"Orange\",\n",
    "    description = \"Color\"\n",
    ")\n",
    "colorOptions"
   ]
  },
  {
   "cell_type": "code",
   "execution_count": 9,
   "metadata": {},
   "outputs": [
    {
     "data": {
      "application/vnd.jupyter.widget-view+json": {
       "model_id": "b365109fe2af47b091f38914bfe04cc5",
       "version_major": 2,
       "version_minor": 0
      },
      "text/plain": [
       "Text(value='Lord of the Rings', description='Title:')"
      ]
     },
     "metadata": {},
     "output_type": "display_data"
    }
   ],
   "source": [
    "titleText = widgets.Text(\n",
    "    value = \"Lord of the Rings\",\n",
    "    description = \"Title:\"\n",
    ")\n",
    "titleText"
   ]
  },
  {
   "cell_type": "code",
   "execution_count": 10,
   "metadata": {},
   "outputs": [
    {
     "data": {
      "application/vnd.jupyter.widget-view+json": {
       "model_id": "c9adf0d01cd8496a8096cf44176fcaf4",
       "version_major": 2,
       "version_minor": 0
      },
      "text/plain": [
       "ColorPicker(value='#efefef', concise=True, description='Background color:')"
      ]
     },
     "metadata": {},
     "output_type": "display_data"
    }
   ],
   "source": [
    "bgcolorPicker = widgets.ColorPicker(\n",
    "    concise = True,\n",
    "    description = \"Background color:\",\n",
    "    value = \"#efefef\"\n",
    ")\n",
    "bgcolorPicker"
   ]
  },
  {
   "cell_type": "code",
   "execution_count": 11,
   "metadata": {},
   "outputs": [
    {
     "data": {
      "application/vnd.jupyter.widget-view+json": {
       "model_id": "1fde47985f374ba4900ff31377b922f3",
       "version_major": 2,
       "version_minor": 0
      },
      "text/plain": [
       "Button(description='Plot', style=ButtonStyle())"
      ]
     },
     "metadata": {},
     "output_type": "display_data"
    }
   ],
   "source": [
    "plotButton = widgets.Button(\n",
    "    description = \"Plot\"\n",
    ")\n",
    "plotButton"
   ]
  },
  {
   "cell_type": "code",
   "execution_count": 12,
   "metadata": {},
   "outputs": [],
   "source": [
    "def plotSine(b=None):\n",
    "    freq = freqSlider.value\n",
    "    xlim = rangeSlider.value\n",
    "    grid = gridButton.value\n",
    "    color = colorOptions.value\n",
    "    title = titleText.value\n",
    "    bgcolor = bgcolorPicker.value\n",
    "    \n",
    "    t = np.linspace(xlim[0], xlim[1], 1000)\n",
    "    fig, ax = plt.subplots(1, 1, figsize=(8, 6))\n",
    "    ax.plot(t, np.sin(2 * np.pi * freq * t), color=color)\n",
    "    ax.grid(grid)"
   ]
  },
  {
   "cell_type": "code",
   "execution_count": 13,
   "metadata": {},
   "outputs": [],
   "source": [
    "@plotButton.on_click\n",
    "def plot_on_click(b):\n",
    "    plotSine()"
   ]
  },
  {
   "cell_type": "code",
   "execution_count": 14,
   "metadata": {},
   "outputs": [],
   "source": [
    "tab1 = VBox(children = [freqSlider, rangeSlider])\n",
    "tab2 = VBox(children = [colorOptions, \n",
    "                       HBox(children = [titleText, bgcolorPicker]),\n",
    "                       gridButton])"
   ]
  },
  {
   "cell_type": "code",
   "execution_count": 15,
   "metadata": {},
   "outputs": [
    {
     "data": {
      "application/vnd.jupyter.widget-view+json": {
       "model_id": "e8aceb0bf2e4462ab332326cfdfd4a02",
       "version_major": 2,
       "version_minor": 0
      },
      "text/plain": [
       "VBox(children=(Tab(children=(VBox(children=(FloatSlider(value=3.0, description='Frequency:', max=10.0, min=1.0…"
      ]
     },
     "metadata": {},
     "output_type": "display_data"
    },
    {
     "data": {
      "image/png": "[encoded data removed]",
      "text/plain": [
       "<Figure size 576x432 with 1 Axes>"
      ]
     },
     "metadata": {
      "needs_background": "light"
     },
     "output_type": "display_data"
    },
    {
     "data": {
      "image/png": "[encoded data removed]",
      "text/plain": [
       "<Figure size 576x432 with 1 Axes>"
      ]
     },
     "metadata": {
      "needs_background": "light"
     },
     "output_type": "display_data"
    }
   ],
   "source": [
    "tab = widgets.Tab(children = [tab1, tab2])\n",
    "tab.set_title(0, \"Data\")\n",
    "tab.set_title(1, \"Styling\")\n",
    "VBox(children= [tab, plotButton])\n"
   ]
  },
  {
   "cell_type": "code",
   "execution_count": 16,
   "metadata": {},
   "outputs": [
    {
     "data": {
      "application/vnd.jupyter.widget-view+json": {
       "model_id": "3b2a9e16d13c47c2afc455bace8f4366",
       "version_major": 2,
       "version_minor": 0
      },
      "text/plain": [
       "interactive(children=(Checkbox(value=True, description='p'), FloatSlider(value=1.0, description='q', max=3.0, …"
      ]
     },
     "metadata": {},
     "output_type": "display_data"
    }
   ],
   "source": [
    "@widgets.interact(p=True, q=1.0)\n",
    "def g(p, q):\n",
    "    try:\n",
    "        assert p == True, \"Truth failed!\"\n",
    "    except AssertionError as ae:\n",
    "        print(ae.args[0])\n",
    "    \n",
    "    return (p, q)"
   ]
  },
  {
   "cell_type": "code",
   "execution_count": 17,
   "metadata": {},
   "outputs": [
    {
     "data": {
      "application/vnd.jupyter.widget-view+json": {
       "model_id": "c19ea3edf48e466899cdd99162cecf76",
       "version_major": 2,
       "version_minor": 0
      },
      "text/plain": [
       "interactive(children=(Text(value='-', description='responded'), Button(description='Run Interact', style=Butto…"
      ]
     },
     "metadata": {},
     "output_type": "display_data"
    }
   ],
   "source": [
    "@widgets.interact_manual(responded=\"-\")\n",
    "def g(responded):\n",
    "    expected = \"Goa\"\n",
    "    if responded==expected:\n",
    "        print(\"Correct!\")\n",
    "    else:\n",
    "        print(\"Error!\")"
   ]
  },
  {
   "cell_type": "code",
   "execution_count": 18,
   "metadata": {},
   "outputs": [
    {
     "data": {
      "application/vnd.jupyter.widget-view+json": {
       "model_id": "bbfb80c87d214deb9d9d4b3061644f77",
       "version_major": 2,
       "version_minor": 0
      },
      "text/plain": [
       "HBox(children=(Text(value='Your answer here', description='Ans: '), Button(description='Check!', style=ButtonS…"
      ]
     },
     "metadata": {},
     "output_type": "display_data"
    }
   ],
   "source": [
    "quizQuestion = widgets.Text(\n",
    "    value = \"Your answer here\",\n",
    "    description = \"Ans: \"\n",
    ")\n",
    "\n",
    "assessResponse = widgets.Button(\n",
    "    description = \"Check!\"\n",
    ")\n",
    "\n",
    "result = widgets.Valid(\n",
    "    value = False,\n",
    ")\n",
    "\n",
    "def checkResponse():\n",
    "    expected = \"Goa\"\n",
    "    responded = quizQuestion.value\n",
    "    if expected == responded:\n",
    "        #print(\"Correct!\")\n",
    "        result.value = True\n",
    "    else:\n",
    "        #print(\"Wrong!\")\n",
    "        result.value = False\n",
    "        \n",
    "@assessResponse.on_click\n",
    "def print_on_click(b):\n",
    "    checkResponse()\n",
    "   \n",
    "    \n",
    "HBox(children=[quizQuestion, assessResponse, result])"
   ]
  },
  {
   "cell_type": "code",
   "execution_count": 19,
   "metadata": {},
   "outputs": [
    {
     "data": {
      "application/vnd.jupyter.widget-view+json": {
       "model_id": "6abb260bbdff41b09d3ae17a11b9c02f",
       "version_major": 2,
       "version_minor": 0
      },
      "text/plain": [
       "Accordion(children=(HBox(children=(Text(value='Your answer here', description='Ans:'), Button(description='Che…"
      ]
     },
     "metadata": {},
     "output_type": "display_data"
    }
   ],
   "source": [
    "countries = [\"Burkina Faso\", \"Syria\", \"Turkey\"]\n",
    "capitals = [\"Ougadougou\", \"Damascus\", \"Istanbul\"]\n",
    "textBoxes = [widgets.Text(value=\"Your answer here\", description=\"Ans:\") for i in range(len(countries))]\n",
    "assessButtons = [widgets.Button(description=\"Check!\", tooltip=str(i)) for i in range(len(countries))]\n",
    "resultBoxes = [widgets.Valid(value=False) for i in range(len(countries))]\n",
    "questionnaire = []\n",
    "for i in range(len(countries)):\n",
    "    questionnaire.append(HBox(children=[textBoxes[i], assessButtons[i], resultBoxes[i]]))\n",
    "    \n",
    "quizAccordion = widgets.Accordion(children = questionnaire)\n",
    "[quizAccordion.set_title(i, countries[i]) for i in range(len(countries))]\n",
    "\n",
    "def checkResponse(i):\n",
    "    resultBoxes[i].value = True\n",
    "\n",
    "def butler(btn):\n",
    "    i = int(btn.tooltip)\n",
    "    expected = capitals[i]\n",
    "    provided = textBoxes[i].value\n",
    "    assessed = False\n",
    "    if expected == provided:\n",
    "        assessed = True\n",
    "    resultBoxes[i].value = assessed\n",
    "    \n",
    "for assessButton in assessButtons:\n",
    "    assessButton.on_click(butler)\n",
    "    \n",
    "quizAccordion\n"
   ]
  },
  {
   "cell_type": "code",
   "execution_count": null,
   "metadata": {},
   "outputs": [],
   "source": []
  },
  {
   "cell_type": "code",
   "execution_count": null,
   "metadata": {},
   "outputs": [],
   "source": []
  }
 ],
 "metadata": {
  "kernelspec": {
   "display_name": "Python 3",
   "language": "python",
   "name": "python3"
  },
  "language_info": {
   "codemirror_mode": {
    "name": "ipython",
    "version": 3
   },
   "file_extension": ".py",
   "mimetype": "text/x-python",
   "name": "python",
   "nbconvert_exporter": "python",
   "pygments_lexer": "ipython3",
   "version": "3.7.3"
  }
 },
 "nbformat": 4,
 "nbformat_minor": 2
}
