{
 "cells": [
  {
   "cell_type": "code",
   "execution_count": 4,
   "metadata": {},
   "outputs": [],
   "source": [
    "import ipywidgets as widgets\n",
    "from ipywidgets import HBox, VBox\n",
    "import numpy as np\n",
    "import matplotlib.pyplot as plt\n",
    "from IPython.display import display\n",
    "%matplotlib inline"
   ]
  },
  {
   "cell_type": "code",
   "execution_count": 5,
   "metadata": {},
   "outputs": [
    {
     "data": {
      "application/vnd.jupyter.widget-view+json": {
       "model_id": "97642c08b9f241b09ef998b8152a755d",
       "version_major": 2,
       "version_minor": 0
      },
      "text/plain": [
       "interactive(children=(IntSlider(value=5, description='x', max=15, min=-5), Output()), _dom_classes=('widget-in…"
      ]
     },
     "metadata": {},
     "output_type": "display_data"
    }
   ],
   "source": [
    "@widgets.interact\n",
    "\n",
    "def f(x=5):\n",
    "    print(x)"
   ]
  },
  {
   "cell_type": "code",
   "execution_count": 6,
   "metadata": {},
   "outputs": [
    {
     "data": {
      "application/vnd.jupyter.widget-view+json": {
       "model_id": "2b4eb420a7534859af75c46aaa0088fd",
       "version_major": 2,
       "version_minor": 0
      },
      "text/plain": [
       "interactive(children=(IntSlider(value=3, description='x', max=5), Output()), _dom_classes=('widget-interact',)…"
      ]
     },
     "metadata": {},
     "output_type": "display_data"
    }
   ],
   "source": [
    "@widgets.interact(x=(0,5))\n",
    "def f(x=3):\n",
    "    print(x)"
   ]
  },
  {
   "cell_type": "code",
   "execution_count": 43,
   "metadata": {},
   "outputs": [
    {
     "data": {
      "application/vnd.jupyter.widget-view+json": {
       "model_id": "fa74860134034756b3bc28190ee31dfe",
       "version_major": 2,
       "version_minor": 0
      },
      "text/plain": [
       "interactive(children=(IntSlider(value=1, description='freq', max=3, min=-1), Dropdown(description='color', ind…"
      ]
     },
     "metadata": {},
     "output_type": "display_data"
    }
   ],
   "source": [
    "@widgets.interact_manual(\n",
    "    color=['red', 'blue', 'green'], lw=(1., 10.))\n",
    "def plot(freq=1, color='blue', lw=2, grid=True):\n",
    "    t = np.linspace(-1, +1, 1000)\n",
    "    fig, ax = plt.subplots(1, 1, figsize=(8, 6))\n",
    "    ax.plot(t, np.sin(2 * np.pi * freq * t), \n",
    "            color=color, lw=lw)\n",
    "    ax.grid(grid)"
   ]
  },
  {
   "cell_type": "code",
   "execution_count": 18,
   "metadata": {},
   "outputs": [
    {
     "data": {
      "application/vnd.jupyter.widget-view+json": {
       "model_id": "d260341f31514c2fb80751ca94486449",
       "version_major": 2,
       "version_minor": 0
      },
      "text/plain": [
       "FloatSlider(value=3.0, description='Frequency:', max=10.0, min=1.0, readout_format='.1f', step=1.0)"
      ]
     },
     "metadata": {},
     "output_type": "display_data"
    }
   ],
   "source": [
    "freqSlider = widgets.FloatSlider(\n",
    "    value = 3.0,\n",
    "    min = 1.0,\n",
    "    max = 10.0,\n",
    "    step = 1,\n",
    "    description = \"Frequency:\",\n",
    "    readout_format = \".1f\",\n",
    ")\n",
    "freqSlider"
   ]
  },
  {
   "cell_type": "code",
   "execution_count": 20,
   "metadata": {},
   "outputs": [
    {
     "data": {
      "application/vnd.jupyter.widget-view+json": {
       "model_id": "243d93fe5e34401aa15daeb33e09f9ae",
       "version_major": 2,
       "version_minor": 0
      },
      "text/plain": [
       "FloatRangeSlider(value=(-1.0, 1.0), description='xlim', max=5.0, min=-5.0, readout_format='.1f')"
      ]
     },
     "metadata": {},
     "output_type": "display_data"
    }
   ],
   "source": [
    "rangeSlider = widgets.FloatRangeSlider(\n",
    "    value = [-1., +1.],\n",
    "    min = -5., \n",
    "    max  = +5., \n",
    "    step = 0.1,\n",
    "    description = \"xlim\",\n",
    "    readout_format = \".1f\"\n",
    ")\n",
    "rangeSlider"
   ]
  },
  {
   "cell_type": "code",
   "execution_count": 22,
   "metadata": {},
   "outputs": [
    {
     "data": {
      "application/vnd.jupyter.widget-view+json": {
       "model_id": "67d1325590c64d90852a8eeedff46ec1",
       "version_major": 2,
       "version_minor": 0
      },
      "text/plain": [
       "ToggleButton(value=True, description='Grid', icon='check')"
      ]
     },
     "metadata": {},
     "output_type": "display_data"
    }
   ],
   "source": [
    "gridButton = widgets.ToggleButton(\n",
    "    value = True,\n",
    "    description = \"Grid\",\n",
    "    icon = \"check\"\n",
    ")\n",
    "gridButton"
   ]
  },
  {
   "cell_type": "code",
   "execution_count": 23,
   "metadata": {},
   "outputs": [
    {
     "data": {
      "application/vnd.jupyter.widget-view+json": {
       "model_id": "297126c903374876a29f154772c6df87",
       "version_major": 2,
       "version_minor": 0
      },
      "text/plain": [
       "ToggleButtons(description='Color', index=3, options=('Red', 'Green', 'Blue', 'Orange'), value='Orange')"
      ]
     },
     "metadata": {},
     "output_type": "display_data"
    }
   ],
   "source": [
    "colorOptions = widgets.ToggleButtons(\n",
    "    options = ['Red', 'Green', 'Blue', 'Orange'],\n",
    "    value = \"Orange\",\n",
    "    description = \"Color\"\n",
    ")\n",
    "colorOptions"
   ]
  },
  {
   "cell_type": "code",
   "execution_count": 26,
   "metadata": {},
   "outputs": [
    {
     "data": {
      "application/vnd.jupyter.widget-view+json": {
       "model_id": "88af4e017fa840d3ac73f324229ff06b",
       "version_major": 2,
       "version_minor": 0
      },
      "text/plain": [
       "Text(value='Lord of the Rings', description='Title:')"
      ]
     },
     "metadata": {},
     "output_type": "display_data"
    }
   ],
   "source": [
    "titleText = widgets.Text(\n",
    "    value = \"Lord of the Rings\",\n",
    "    description = \"Title:\"\n",
    ")\n",
    "titleText"
   ]
  },
  {
   "cell_type": "code",
   "execution_count": 34,
   "metadata": {},
   "outputs": [
    {
     "data": {
      "application/vnd.jupyter.widget-view+json": {
       "model_id": "79d98c047dc54b2d91ebe95de822f624",
       "version_major": 2,
       "version_minor": 0
      },
      "text/plain": [
       "ColorPicker(value='#efefef', concise=True, description='Background color:')"
      ]
     },
     "metadata": {},
     "output_type": "display_data"
    }
   ],
   "source": [
    "bgcolorPicker = widgets.ColorPicker(\n",
    "    concise = True,\n",
    "    description = \"Background color:\",\n",
    "    value = \"#efefef\"\n",
    ")\n",
    "bgcolorPicker"
   ]
  },
  {
   "cell_type": "code",
   "execution_count": 53,
   "metadata": {},
   "outputs": [
    {
     "data": {
      "application/vnd.jupyter.widget-view+json": {
       "model_id": "f0a69acf0a594851b5b81ef2c2cc4c1b",
       "version_major": 2,
       "version_minor": 0
      },
      "text/plain": [
       "Button(description='Plot', style=ButtonStyle())"
      ]
     },
     "metadata": {},
     "output_type": "display_data"
    }
   ],
   "source": [
    "plotButton = widgets.Button(\n",
    "    description = \"Plot\"\n",
    ")\n",
    "plotButton"
   ]
  },
  {
   "cell_type": "code",
   "execution_count": 45,
   "metadata": {},
   "outputs": [],
   "source": [
    "def plotSine(b=None):\n",
    "    freq = freqSlider.value\n",
    "    xlim = rangeSlider.value\n",
    "    grid = gridButton.value\n",
    "    color = colorOptions.value\n",
    "    title = titleText.value\n",
    "    bgcolor = bgcolorPicker.value\n",
    "    \n",
    "    t = np.linspace(xlim[0], xlim[1], 1000)\n",
    "    fig, ax = plt.subplots(1, 1, figsize=(8, 6))\n",
    "    ax.plot(t, np.sin(2 * np.pi * freq * t), color=color)\n",
    "    ax.grid(grid)"
   ]
  },
  {
   "cell_type": "code",
   "execution_count": 46,
   "metadata": {},
   "outputs": [],
   "source": [
    "@plotButton.on_click\n",
    "def plot_on_click(b):\n",
    "    plotSine()"
   ]
  },
  {
   "cell_type": "code",
   "execution_count": 50,
   "metadata": {},
   "outputs": [],
   "source": [
    "tab1 = VBox(children = [freqSlider, rangeSlider])\n",
    "tab2 = VBox(children = [colorOptions, \n",
    "                       HBox(children = [titleText, bgcolorPicker]),\n",
    "                       gridButton])"
   ]
  },
  {
   "cell_type": "code",
   "execution_count": 52,
   "metadata": {},
   "outputs": [
    {
     "data": {
      "application/vnd.jupyter.widget-view+json": {
       "model_id": "388a0d75588b43d38faa13cf1fd9b8c4",
       "version_major": 2,
       "version_minor": 0
      },
      "text/plain": [
       "VBox(children=(Tab(children=(VBox(children=(FloatSlider(value=4.0, description='Frequency:', max=10.0, min=1.0…"
      ]
     },
     "metadata": {},
     "output_type": "display_data"
    },
    {
     "data": {
      "image/png": "[encoded data removed]",
      "text/plain": [
       "<Figure size 576x432 with 1 Axes>"
      ]
     },
     "metadata": {
      "needs_background": "light"
     },
     "output_type": "display_data"
    }
   ],
   "source": [
    "tab = widgets.Tab(children = [tab1, tab2])\n",
    "tab.set_title(0, \"Data\")\n",
    "tab.set_title(1, \"Styling\")\n",
    "VBox(children= [tab, plotButton])\n"
   ]
  },
  {
   "cell_type": "code",
   "execution_count": null,
   "metadata": {},
   "outputs": [],
   "source": []
  }
 ],
 "metadata": {
  "kernelspec": {
   "display_name": "Python 3",
   "language": "python",
   "name": "python3"
  },
  "language_info": {
   "codemirror_mode": {
    "name": "ipython",
    "version": 3
   },
   "file_extension": ".py",
   "mimetype": "text/x-python",
   "name": "python",
   "nbconvert_exporter": "python",
   "pygments_lexer": "ipython3",
   "version": "3.7.3"
  }
 },
 "nbformat": 4,
 "nbformat_minor": 2
}
